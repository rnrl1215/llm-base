{
 "cells": [
  {
   "cell_type": "code",
   "execution_count": 3,
   "id": "285c439b",
   "metadata": {},
   "outputs": [
    {
     "name": "stdout",
     "output_type": "stream",
     "text": [
      "\n",
      "\u001b[1m[\u001b[0m\u001b[34;49mnotice\u001b[0m\u001b[1;39;49m]\u001b[0m\u001b[39;49m A new release of pip is available: \u001b[0m\u001b[31;49m23.2.1\u001b[0m\u001b[39;49m -> \u001b[0m\u001b[32;49m25.2\u001b[0m\n",
      "\u001b[1m[\u001b[0m\u001b[34;49mnotice\u001b[0m\u001b[1;39;49m]\u001b[0m\u001b[39;49m To update, run: \u001b[0m\u001b[32;49mpip install --upgrade pip\u001b[0m\n",
      "Note: you may need to restart the kernel to use updated packages.\n"
     ]
    }
   ],
   "source": [
    "%pip install --upgrade --quiet  docx2txt langchain-community"
   ]
  },
  {
   "cell_type": "code",
   "execution_count": 55,
   "id": "b77e2a9f",
   "metadata": {},
   "outputs": [],
   "source": [
    "from langchain_community.document_loaders import Docx2txtLoader\n",
    "from langchain_text_splitters import RecursiveCharacterTextSplitter\n",
    "text_spliter = RecursiveCharacterTextSplitter(\n",
    "    chunk_size = 1500,\n",
    "    chunk_overlap = 200\n",
    ");\n",
    "loader = Docx2txtLoader('./tax-table.docx');\n",
    "document = loader.load_and_split(text_splitter=text_spliter);"
   ]
  },
  {
   "cell_type": "code",
   "execution_count": 7,
   "id": "eb330dc2",
   "metadata": {},
   "outputs": [
    {
     "name": "stdout",
     "output_type": "stream",
     "text": [
      "\n",
      "\u001b[1m[\u001b[0m\u001b[34;49mnotice\u001b[0m\u001b[1;39;49m]\u001b[0m\u001b[39;49m A new release of pip is available: \u001b[0m\u001b[31;49m23.2.1\u001b[0m\u001b[39;49m -> \u001b[0m\u001b[32;49m25.2\u001b[0m\n",
      "\u001b[1m[\u001b[0m\u001b[34;49mnotice\u001b[0m\u001b[1;39;49m]\u001b[0m\u001b[39;49m To update, run: \u001b[0m\u001b[32;49mpip install --upgrade pip\u001b[0m\n",
      "Note: you may need to restart the kernel to use updated packages.\n"
     ]
    }
   ],
   "source": [
    "%pip install -qU langchain-text-splitters"
   ]
  },
  {
   "cell_type": "code",
   "execution_count": 56,
   "id": "c27bbdb1",
   "metadata": {},
   "outputs": [
    {
     "data": {
      "text/plain": [
       "184"
      ]
     },
     "execution_count": 56,
     "metadata": {},
     "output_type": "execute_result"
    }
   ],
   "source": [
    "len(document)"
   ]
  },
  {
   "cell_type": "code",
   "execution_count": null,
   "id": "57d1b132",
   "metadata": {},
   "outputs": [],
   "source": [
    "document"
   ]
  },
  {
   "cell_type": "code",
   "execution_count": 127,
   "id": "e149474b",
   "metadata": {},
   "outputs": [],
   "source": [
    "from dotenv import load_dotenv\n",
    "load_dotenv()\n",
    "\n",
    "from langchain_upstage import UpstageEmbeddings\n",
    "embedding = UpstageEmbeddings(model=\"solar-embedding-1-large\")  # 예시 모델명\n"
   ]
  },
  {
   "cell_type": "code",
   "execution_count": 221,
   "id": "10f04a1e",
   "metadata": {},
   "outputs": [],
   "source": [
    "\n",
    "import getpass\n",
    "import os\n",
    "import time\n",
    "\n",
    "from pinecone import Pinecone\n",
    "from langchain_pinecone import PineconeVectorStore\n",
    "from dotenv import load_dotenv\n",
    "load_dotenv()\n",
    "\n",
    "index_name = 'tax-table-index'\n",
    "\n",
    "if not os.getenv(\"PINECONE_API_KEY\"):\n",
    "    os.environ[\"PINECONE_API_KEY\"] = getpass.getpass(\"Enter your Pinecone API key: \")\n",
    "\n",
    "pinecone_api_key = os.environ.get(\"PINECONE_API_KEY\")\n",
    "\n",
    "pc = Pinecone(api_key=pinecone_api_key)\n",
    "\n",
    "database = PineconeVectorStore.from_documents(document, embedding, index_name=index_name)"
   ]
  },
  {
   "cell_type": "code",
   "execution_count": 262,
   "id": "fef611eb",
   "metadata": {},
   "outputs": [],
   "source": [
    "query = '연봉 5천만원인 직장인 소득세는?'\n",
    "retrive_docs = database.similarity_search(query=query);"
   ]
  },
  {
   "cell_type": "code",
   "execution_count": 263,
   "id": "574972e6",
   "metadata": {},
   "outputs": [
    {
     "data": {
      "text/plain": [
       "[Document(id='7cf5a7f0-2012-45dd-814b-fecd0a0b22f5', metadata={'source': './tax-table.docx'}, page_content='3. 총급여액이 7천만원 초과 1억2천만원 이하인 경우: 66만원 - [(총급여액 - 7천만원) × 1/2]. 다만, 위 금액이 50만원보다 적은 경우에는 50만원으로 한다.\\n\\n4. 총급여액이 1억2천만원을 초과하는 경우: 50만원 - [(총급여액 - 1억2천만원) × 1/2]. 다만, 위 금액이 20만원보다 적은 경우에는 20만원으로 한다.\\n\\n③ 일용근로자의 근로소득에 대해서 제134조제3항에 따른 원천징수를 하는 경우에는 해당 근로소득에 대한 산출세액의 100분의 55에 해당하는 금액을 그 산출세액에서 공제한다.<개정 2014. 1. 1.>\\n\\n[전문개정 2012. 1. 1.]\\n\\n\\n\\n제59조의2(자녀세액공제) ①종합소득이 있는 거주자의 기본공제대상자에 해당하는 자녀(입양자 및 위탁아동을 포함하며, 이하 이 조에서 “공제대상자녀”라 한다) 및 손자녀로서 8세 이상의 사람에 대해서는 다음 각 호의 구분에 따른 금액을 종합소득산출세액에서 공제한다. <개정 2015. 5. 13., 2017. 12. 19., 2018. 12. 31., 2019. 12. 31., 2022. 12. 31., 2023. 12. 31., 2024. 12. 31.>\\n\\n1. 1명인 경우: 연 25만원\\n\\n2. 2명인 경우: 연 55만원\\n\\n3. 3명 이상인 경우: 연 55만원과 2명을 초과하는 1명당 연 40만원을 합한 금액\\n\\n② 삭제<2017. 12. 19.>\\n\\n③ 해당 과세기간에 출산하거나 입양 신고한 공제대상자녀가 있는 경우 다음 각 호의 구분에 따른 금액을 종합소득산출세액에서 공제한다.<신설 2015. 5. 13., 2016. 12. 20.>\\n\\n1. 출산하거나 입양 신고한 공제대상자녀가 첫째인 경우: 연 30만원\\n\\n2. 출산하거나 입양 신고한 공제대상자녀가 둘째인 경우: 연 50만원\\n\\n3. 출산하거나 입양 신고한 공제대상자녀가 셋째 이상인 경우: 연 70만원\\n\\n④ 제1항 및 제3항에 따른 공제를 “자녀세액공제”라 한다.<신설 2015. 5. 13., 2017. 12. 19.>\\n\\n[본조신설 2014. 1. 1.]\\n\\n[종전 제59조의2는 제59조의5로 이동 <2014. 1. 1.>]'),\n",
       " Document(id='0b650588-386e-4c8d-ace5-455a5df7a845', metadata={'source': './tax-table.docx'}, page_content='3. 총급여액이 7천만원 초과 1억2천만원 이하인 경우: 66만원 - [(총급여액 - 7천만원) × 1/2]. 다만, 위 금액이 50만원보다 적은 경우에는 50만원으로 한다.\\n\\n4. 총급여액이 1억2천만원을 초과하는 경우: 50만원 - [(총급여액 - 1억2천만원) × 1/2]. 다만, 위 금액이 20만원보다 적은 경우에는 20만원으로 한다.\\n\\n③ 일용근로자의 근로소득에 대해서 제134조제3항에 따른 원천징수를 하는 경우에는 해당 근로소득에 대한 산출세액의 100분의 55에 해당하는 금액을 그 산출세액에서 공제한다.<개정 2014. 1. 1.>\\n\\n[전문개정 2012. 1. 1.]\\n\\n\\n\\n제59조의2(자녀세액공제) ①종합소득이 있는 거주자의 기본공제대상자에 해당하는 자녀(입양자 및 위탁아동을 포함하며, 이하 이 조에서 “공제대상자녀”라 한다) 및 손자녀로서 8세 이상의 사람에 대해서는 다음 각 호의 구분에 따른 금액을 종합소득산출세액에서 공제한다. <개정 2015. 5. 13., 2017. 12. 19., 2018. 12. 31., 2019. 12. 31., 2022. 12. 31., 2023. 12. 31., 2024. 12. 31.>\\n\\n1. 1명인 경우: 연 25만원\\n\\n2. 2명인 경우: 연 55만원\\n\\n3. 3명 이상인 경우: 연 55만원과 2명을 초과하는 1명당 연 40만원을 합한 금액\\n\\n② 삭제<2017. 12. 19.>\\n\\n③ 해당 과세기간에 출산하거나 입양 신고한 공제대상자녀가 있는 경우 다음 각 호의 구분에 따른 금액을 종합소득산출세액에서 공제한다.<신설 2015. 5. 13., 2016. 12. 20.>\\n\\n1. 출산하거나 입양 신고한 공제대상자녀가 첫째인 경우: 연 30만원\\n\\n2. 출산하거나 입양 신고한 공제대상자녀가 둘째인 경우: 연 50만원\\n\\n3. 출산하거나 입양 신고한 공제대상자녀가 셋째 이상인 경우: 연 70만원\\n\\n④ 제1항 및 제3항에 따른 공제를 “자녀세액공제”라 한다.<신설 2015. 5. 13., 2017. 12. 19.>\\n\\n[본조신설 2014. 1. 1.]\\n\\n[종전 제59조의2는 제59조의5로 이동 <2014. 1. 1.>]'),\n",
       " Document(id='b801cbd3-4ae9-4c0c-8a06-9db5c2b67e44', metadata={'source': './tax-table.docx'}, page_content='제55조(세율) ①거주자의 종합소득에 대한 소득세는 해당 연도의 종합소득과세표준에 다음의 세율을 적용하여 계산한 금액(이하 “종합소득산출세액”이라 한다)을 그 세액으로 한다. <개정 2014. 1. 1., 2016. 12. 20., 2017. 12. 19., 2020. 12. 29., 2022. 12. 31.>\\n\\n\\n\\n\\n\\n\\n\\n\\n\\n| 종합소득 과세표준         | 세율                                               |\\n\\n|---------------------------|----------------------------------------------------|\\n\\n| 1,400만 원 이하           | 과세표준의 6%                                     |\\n\\n| 1,400만 원 초과 ~ 5,000만 원 이하 | 84만 원 + (1,400만 원을 초과하는 금액의 15%)      |\\n\\n| 5,000만 원 초과 ~ 8,800만 원 이하 | 624만 원 + (5,000만 원을 초과하는 금액의 24%)     |\\n\\n| 8,800만 원 초과 ~ 1억 5천만 원 이하 | 1,536만 원 + (8,800만 원을 초과하는 금액의 35%)   |\\n\\n| 1억 5천만 원 초과 ~ 3억 원 이하    | 3,706만 원 + (1억 5천만 원을 초과하는 금액의 38%)|\\n\\n| 3억 원 초과 ~ 5억 원 이하          | 9,406만 원 + (3억 원을 초과하는 금액의 40%)       |\\n\\n| 5억 원 초과 ~ 10억 원 이하         | 1억 7,406만 원 + (5억 원을 초과하는 금액의 42%)   |\\n\\n| 10억 원 초과                  | 3억 8,406만 원 + (10억 원을 초과하는 금액의 45%)  |\\n\\n\\n\\n② 거주자의 퇴직소득에 대한 소득세는 다음 각 호의 순서에 따라 계산한 금액(이하 “퇴직소득 산출세액”이라 한다)으로 한다.<개정 2013. 1. 1., 2014. 12. 23.>\\n\\n1. 해당 과세기간의 퇴직소득과세표준에 제1항의 세율을 적용하여 계산한 금액\\n\\n2. 제1호의 금액을 12로 나눈 금액에 근속연수를 곱한 금액\\n\\n3. 삭제<2014. 12. 23.>\\n\\n[전문개정 2009. 12. 31.]\\n\\n\\n\\n제2관 세액공제 <개정 2009. 12. 31.>\\n\\n\\n\\n제56조(배당세액공제) ① 거주자의 종합소득금액에 제17조제3항 각 호 외의 부분 단서가 적용되는 배당소득금액이 합산되어 있는 경우에는 같은 항 각 호 외의 부분 단서에 따라 해당 과세기간의 총수입금액에 더한 금액에 해당하는 금액을 종합소득 산출세액에서 공제한다. <개정 2009. 12. 31.>\\n\\n② 제1항에 따른 공제를 “배당세액공제”라 한다.<개정 2009. 12. 31.>\\n\\n③ 삭제<2003. 12. 30.>'),\n",
       " Document(id='abb2c2a3-f83f-40ec-a4ce-e196cfdc6224', metadata={'source': './tax-table.docx'}, page_content='제55조(세율) ①거주자의 종합소득에 대한 소득세는 해당 연도의 종합소득과세표준에 다음의 세율을 적용하여 계산한 금액(이하 “종합소득산출세액”이라 한다)을 그 세액으로 한다. <개정 2014. 1. 1., 2016. 12. 20., 2017. 12. 19., 2020. 12. 29., 2022. 12. 31.>\\n\\n\\n\\n\\n\\n\\n\\n\\n\\n| 종합소득 과세표준         | 세율                                               |\\n\\n|---------------------------|----------------------------------------------------|\\n\\n| 1,400만 원 이하           | 과세표준의 6%                                     |\\n\\n| 1,400만 원 초과 ~ 5,000만 원 이하 | 84만 원 + (1,400만 원을 초과하는 금액의 15%)      |\\n\\n| 5,000만 원 초과 ~ 8,800만 원 이하 | 624만 원 + (5,000만 원을 초과하는 금액의 24%)     |\\n\\n| 8,800만 원 초과 ~ 1억 5천만 원 이하 | 1,536만 원 + (8,800만 원을 초과하는 금액의 35%)   |\\n\\n| 1억 5천만 원 초과 ~ 3억 원 이하    | 3,706만 원 + (1억 5천만 원을 초과하는 금액의 38%)|\\n\\n| 3억 원 초과 ~ 5억 원 이하          | 9,406만 원 + (3억 원을 초과하는 금액의 40%)       |\\n\\n| 5억 원 초과 ~ 10억 원 이하         | 1억 7,406만 원 + (5억 원을 초과하는 금액의 42%)   |\\n\\n| 10억 원 초과                  | 3억 8,406만 원 + (10억 원을 초과하는 금액의 45%)  |\\n\\n\\n\\n② 거주자의 퇴직소득에 대한 소득세는 다음 각 호의 순서에 따라 계산한 금액(이하 “퇴직소득 산출세액”이라 한다)으로 한다.<개정 2013. 1. 1., 2014. 12. 23.>\\n\\n1. 해당 과세기간의 퇴직소득과세표준에 제1항의 세율을 적용하여 계산한 금액\\n\\n2. 제1호의 금액을 12로 나눈 금액에 근속연수를 곱한 금액\\n\\n3. 삭제<2014. 12. 23.>\\n\\n[전문개정 2009. 12. 31.]\\n\\n\\n\\n제2관 세액공제 <개정 2009. 12. 31.>\\n\\n\\n\\n제56조(배당세액공제) ① 거주자의 종합소득금액에 제17조제3항 각 호 외의 부분 단서가 적용되는 배당소득금액이 합산되어 있는 경우에는 같은 항 각 호 외의 부분 단서에 따라 해당 과세기간의 총수입금액에 더한 금액에 해당하는 금액을 종합소득 산출세액에서 공제한다. <개정 2009. 12. 31.>\\n\\n② 제1항에 따른 공제를 “배당세액공제”라 한다.<개정 2009. 12. 31.>\\n\\n③ 삭제<2003. 12. 30.>')]"
      ]
     },
     "execution_count": 263,
     "metadata": {},
     "output_type": "execute_result"
    }
   ],
   "source": [
    "retrive_docs"
   ]
  },
  {
   "cell_type": "code",
   "execution_count": 264,
   "id": "41afcd9e",
   "metadata": {},
   "outputs": [],
   "source": [
    "from langchain_upstage import ChatUpstage\n",
    "\n",
    "llm = ChatUpstage()"
   ]
  },
  {
   "cell_type": "code",
   "execution_count": 265,
   "id": "ada2cf8e",
   "metadata": {},
   "outputs": [],
   "source": [
    "prompt=f\"\"\"[idntity]\n",
    "- 당신은 최고의 한국 소득세법 전문가 입니다.\n",
    "- [Context]를 참고해서 질문에 답변해 주세요\n",
    "[Context]\n",
    "{retrive_docs}\n",
    "\n",
    "Question: {query}\n",
    "\"\"\""
   ]
  },
  {
   "cell_type": "code",
   "execution_count": 266,
   "id": "80619c36",
   "metadata": {},
   "outputs": [],
   "source": [
    "from langchain import hub\n",
    "prompt= hub.pull('rlm/rag-prompt')"
   ]
  },
  {
   "cell_type": "code",
   "execution_count": 269,
   "id": "44d25213",
   "metadata": {},
   "outputs": [
    {
     "data": {
      "text/plain": [
       "ChatPromptTemplate(input_variables=['context', 'question'], input_types={}, partial_variables={}, metadata={'lc_hub_owner': 'rlm', 'lc_hub_repo': 'rag-prompt', 'lc_hub_commit_hash': '50442af133e61576e74536c6556cefe1fac147cad032f4377b60c436e6cdcb6e'}, messages=[HumanMessagePromptTemplate(prompt=PromptTemplate(input_variables=['context', 'question'], input_types={}, partial_variables={}, template=\"You are an assistant for question-answering tasks. Use the following pieces of retrieved context to answer the question. If you don't know the answer, just say that you don't know. Use three sentences maximum and keep the answer concise.\\nQuestion: {question} \\nContext: {context} \\nAnswer:\"), additional_kwargs={})])"
      ]
     },
     "execution_count": 269,
     "metadata": {},
     "output_type": "execute_result"
    }
   ],
   "source": [
    "prompt"
   ]
  },
  {
   "cell_type": "code",
   "execution_count": 270,
   "id": "de047648",
   "metadata": {},
   "outputs": [],
   "source": [
    "from langchain.chains import RetrievalQA\n",
    "\n",
    "retriever =  database.as_retriever(search_kwargs={'k':5})\n",
    "\n",
    "qa_chain = RetrievalQA.from_chain_type(\n",
    "    llm,\n",
    "    retriever=retriever,\n",
    "    chain_type_kwargs={\"prompt\":prompt}\n",
    ")\n",
    "\n"
   ]
  },
  {
   "cell_type": "code",
   "execution_count": 271,
   "id": "91eac237",
   "metadata": {},
   "outputs": [],
   "source": [
    "retriever.invoke(query)\n",
    "ai_message = qa_chain({\"query\": query})\n"
   ]
  },
  {
   "cell_type": "code",
   "execution_count": 272,
   "id": "d772b2c1",
   "metadata": {},
   "outputs": [
    {
     "data": {
      "text/plain": [
       "{'query': '연봉 5천만원인 직장인 소득세는?',\n",
       " 'result': '연봉 5천만원인 직장인의 소득세를 계산하려면 먼저 종합소득 과세표준을 구해야 합니다. 연봉 5천만원에서 각종 공제액을 뺀 금액이 종합소득 과세표준이 됩니다. 공제액을 뺀 후의 과세표준이 1,400만원 초과 5,000만원 이하인 경우, 세율은 15%입니다. 따라서, 소득세는 84만원 + (1,400만원 초과 금액의 15%)으로 계산됩니다. 연봉 5천만원에서 각종 공제액을 뺀 후의 과세표준이 예를 들어 3,000만원이라면, 소득세는 84만원 + (1,600만원의 15%) = 159만 6천원이 됩니다. 그러나, 근로소득세액공제를 고려해야 하므로, 정확한 소득세는 근로소득세액공제를 적용한 후 계산해야 합니다. 근로소득세액공제는 총급여액에 따라 달라지며, 연봉 5천만원인 경우 66만원 - [(총급여액 - 7천만원) × 1/2]로 계산됩니다. 연봉 5천만원인 경우 근로소득세액공제는 0원이 됩니다. 따라서, 연봉 5천만원인 직장인의 소득세는 159만 6천원으로 계산됩니다.'}"
      ]
     },
     "execution_count": 272,
     "metadata": {},
     "output_type": "execute_result"
    }
   ],
   "source": [
    "ai_message"
   ]
  },
  {
   "cell_type": "code",
   "execution_count": 273,
   "id": "f3f0b02c",
   "metadata": {},
   "outputs": [],
   "source": [
    "from langchain_core.output_parsers import StrOutputParser\n",
    "from langchain_core.prompts import ChatPromptTemplate\n",
    "\n",
    "\n",
    "dictionary = [\"사람을 나타내는 표현 -> 거주자\"]\n",
    "\n",
    "\n",
    "prompt = ChatPromptTemplate.from_template(f\"\"\"\n",
    "사용자의 질문을 보고 ,우리의 사전을 참고해서 사용자의 질문을 변경해 주세요.\n",
    " 만약 변경할 필요가 없다고 판단된다면, 사용자의 질문을 변경하지 않아도 됩니다.       \n",
    "사전 : {dictionary}\n",
    "질문: {{question}}\n",
    "\"\"\")\n",
    "\n",
    "dictionary_chain = prompt | llm | StrOutputParser()"
   ]
  },
  {
   "cell_type": "code",
   "execution_count": 274,
   "id": "38c7547b",
   "metadata": {},
   "outputs": [],
   "source": [
    "new_question = dictionary_chain.invoke({\"question\": query})"
   ]
  },
  {
   "cell_type": "code",
   "execution_count": 275,
   "id": "4a07204a",
   "metadata": {},
   "outputs": [
    {
     "data": {
      "text/plain": [
       "'질문: 연봉 5천만원인 거주자 소득세는?\\n\\n이 질문에서는 \"직장인\"이라는 표현이 사용되었지만, 제공된 사전을 참고하여 \"직장인\"을 \"거주자\"로 변경하였습니다. \"직장인\"은 사람을 나타내는 표현이므로, 사전에서 지정한 대체 표현으로 변경한 것입니다.'"
      ]
     },
     "execution_count": 275,
     "metadata": {},
     "output_type": "execute_result"
    }
   ],
   "source": [
    "new_question"
   ]
  },
  {
   "cell_type": "code",
   "execution_count": 276,
   "id": "d6e09bad",
   "metadata": {},
   "outputs": [],
   "source": [
    "tax_chain = {\"query\" : dictionary_chain} | qa_chain"
   ]
  },
  {
   "cell_type": "code",
   "execution_count": null,
   "id": "30c7bb3e",
   "metadata": {},
   "outputs": [],
   "source": [
    "ai_response = tax_chain.invoke({\"question\" : query})"
   ]
  }
 ],
 "metadata": {
  "kernelspec": {
   "display_name": "3.11.6",
   "language": "python",
   "name": "python3"
  },
  "language_info": {
   "codemirror_mode": {
    "name": "ipython",
    "version": 3
   },
   "file_extension": ".py",
   "mimetype": "text/x-python",
   "name": "python",
   "nbconvert_exporter": "python",
   "pygments_lexer": "ipython3",
   "version": "3.11.6"
  }
 },
 "nbformat": 4,
 "nbformat_minor": 5
}
