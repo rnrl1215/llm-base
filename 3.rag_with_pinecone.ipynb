{
 "cells": [
  {
   "cell_type": "code",
   "execution_count": 3,
   "id": "285c439b",
   "metadata": {},
   "outputs": [
    {
     "name": "stdout",
     "output_type": "stream",
     "text": [
      "\n",
      "\u001b[1m[\u001b[0m\u001b[34;49mnotice\u001b[0m\u001b[1;39;49m]\u001b[0m\u001b[39;49m A new release of pip is available: \u001b[0m\u001b[31;49m23.2.1\u001b[0m\u001b[39;49m -> \u001b[0m\u001b[32;49m25.2\u001b[0m\n",
      "\u001b[1m[\u001b[0m\u001b[34;49mnotice\u001b[0m\u001b[1;39;49m]\u001b[0m\u001b[39;49m To update, run: \u001b[0m\u001b[32;49mpip install --upgrade pip\u001b[0m\n",
      "Note: you may need to restart the kernel to use updated packages.\n"
     ]
    }
   ],
   "source": [
    "%pip install --upgrade --quiet  docx2txt langchain-community"
   ]
  },
  {
   "cell_type": "code",
   "execution_count": 1,
   "id": "b77e2a9f",
   "metadata": {},
   "outputs": [],
   "source": [
    "from langchain_community.document_loaders import Docx2txtLoader\n",
    "from langchain_text_splitters import RecursiveCharacterTextSplitter\n",
    "text_spliter = RecursiveCharacterTextSplitter(\n",
    "    chunk_size = 1500,\n",
    "    chunk_overlap = 200\n",
    ");\n",
    "loader = Docx2txtLoader('./tax.docx');\n",
    "document = loader.load_and_split(text_splitter=text_spliter);"
   ]
  },
  {
   "cell_type": "code",
   "execution_count": 7,
   "id": "eb330dc2",
   "metadata": {},
   "outputs": [
    {
     "name": "stdout",
     "output_type": "stream",
     "text": [
      "\n",
      "\u001b[1m[\u001b[0m\u001b[34;49mnotice\u001b[0m\u001b[1;39;49m]\u001b[0m\u001b[39;49m A new release of pip is available: \u001b[0m\u001b[31;49m23.2.1\u001b[0m\u001b[39;49m -> \u001b[0m\u001b[32;49m25.2\u001b[0m\n",
      "\u001b[1m[\u001b[0m\u001b[34;49mnotice\u001b[0m\u001b[1;39;49m]\u001b[0m\u001b[39;49m To update, run: \u001b[0m\u001b[32;49mpip install --upgrade pip\u001b[0m\n",
      "Note: you may need to restart the kernel to use updated packages.\n"
     ]
    }
   ],
   "source": [
    "%pip install -qU langchain-text-splitters"
   ]
  },
  {
   "cell_type": "code",
   "execution_count": 2,
   "id": "c27bbdb1",
   "metadata": {},
   "outputs": [
    {
     "data": {
      "text/plain": [
       "183"
      ]
     },
     "execution_count": 2,
     "metadata": {},
     "output_type": "execute_result"
    }
   ],
   "source": [
    "len(document)"
   ]
  },
  {
   "cell_type": "code",
   "execution_count": null,
   "id": "57d1b132",
   "metadata": {},
   "outputs": [],
   "source": [
    "document"
   ]
  },
  {
   "cell_type": "code",
   "execution_count": 20,
   "id": "be3fe420",
   "metadata": {},
   "outputs": [
    {
     "name": "stdout",
     "output_type": "stream",
     "text": [
      "Collecting langchain-chroma\n",
      "  Obtaining dependency information for langchain-chroma from https://files.pythonhosted.org/packages/3d/f9/705820c4792540383d4cf9c96fc55784fbd972897f5e84e3160001aba51d/langchain_chroma-0.2.5-py3-none-any.whl.metadata\n",
      "  Downloading langchain_chroma-0.2.5-py3-none-any.whl.metadata (1.1 kB)\n",
      "Requirement already satisfied: langchain-core>=0.3.70 in /Users/skahn/.pyenv/versions/3.11.6/lib/python3.11/site-packages (from langchain-chroma) (0.3.75)\n",
      "Requirement already satisfied: numpy>=1.26.0 in /Users/skahn/.pyenv/versions/3.11.6/lib/python3.11/site-packages (from langchain-chroma) (2.3.3)\n",
      "Requirement already satisfied: chromadb>=1.0.9 in /Users/skahn/.pyenv/versions/3.11.6/lib/python3.11/site-packages (from langchain-chroma) (1.0.20)\n",
      "Requirement already satisfied: build>=1.0.3 in /Users/skahn/.pyenv/versions/3.11.6/lib/python3.11/site-packages (from chromadb>=1.0.9->langchain-chroma) (1.3.0)\n",
      "Requirement already satisfied: pydantic>=1.9 in /Users/skahn/.pyenv/versions/3.11.6/lib/python3.11/site-packages (from chromadb>=1.0.9->langchain-chroma) (2.11.7)\n",
      "Requirement already satisfied: pybase64>=1.4.1 in /Users/skahn/.pyenv/versions/3.11.6/lib/python3.11/site-packages (from chromadb>=1.0.9->langchain-chroma) (1.4.2)\n",
      "Requirement already satisfied: uvicorn[standard]>=0.18.3 in /Users/skahn/.pyenv/versions/3.11.6/lib/python3.11/site-packages (from chromadb>=1.0.9->langchain-chroma) (0.35.0)\n",
      "Requirement already satisfied: posthog<6.0.0,>=2.4.0 in /Users/skahn/.pyenv/versions/3.11.6/lib/python3.11/site-packages (from chromadb>=1.0.9->langchain-chroma) (5.4.0)\n",
      "Requirement already satisfied: typing-extensions>=4.5.0 in /Users/skahn/.pyenv/versions/3.11.6/lib/python3.11/site-packages (from chromadb>=1.0.9->langchain-chroma) (4.15.0)\n",
      "Requirement already satisfied: onnxruntime>=1.14.1 in /Users/skahn/.pyenv/versions/3.11.6/lib/python3.11/site-packages (from chromadb>=1.0.9->langchain-chroma) (1.22.1)\n",
      "Requirement already satisfied: opentelemetry-api>=1.2.0 in /Users/skahn/.pyenv/versions/3.11.6/lib/python3.11/site-packages (from chromadb>=1.0.9->langchain-chroma) (1.36.0)\n",
      "Requirement already satisfied: opentelemetry-exporter-otlp-proto-grpc>=1.2.0 in /Users/skahn/.pyenv/versions/3.11.6/lib/python3.11/site-packages (from chromadb>=1.0.9->langchain-chroma) (1.36.0)\n",
      "Requirement already satisfied: opentelemetry-sdk>=1.2.0 in /Users/skahn/.pyenv/versions/3.11.6/lib/python3.11/site-packages (from chromadb>=1.0.9->langchain-chroma) (1.36.0)\n",
      "Requirement already satisfied: tokenizers>=0.13.2 in /Users/skahn/.pyenv/versions/3.11.6/lib/python3.11/site-packages (from chromadb>=1.0.9->langchain-chroma) (0.20.3)\n",
      "Requirement already satisfied: pypika>=0.48.9 in /Users/skahn/.pyenv/versions/3.11.6/lib/python3.11/site-packages (from chromadb>=1.0.9->langchain-chroma) (0.48.9)\n",
      "Requirement already satisfied: tqdm>=4.65.0 in /Users/skahn/.pyenv/versions/3.11.6/lib/python3.11/site-packages (from chromadb>=1.0.9->langchain-chroma) (4.67.1)\n",
      "Requirement already satisfied: overrides>=7.3.1 in /Users/skahn/.pyenv/versions/3.11.6/lib/python3.11/site-packages (from chromadb>=1.0.9->langchain-chroma) (7.7.0)\n",
      "Requirement already satisfied: importlib-resources in /Users/skahn/.pyenv/versions/3.11.6/lib/python3.11/site-packages (from chromadb>=1.0.9->langchain-chroma) (6.5.2)\n",
      "Requirement already satisfied: grpcio>=1.58.0 in /Users/skahn/.pyenv/versions/3.11.6/lib/python3.11/site-packages (from chromadb>=1.0.9->langchain-chroma) (1.74.0)\n",
      "Requirement already satisfied: bcrypt>=4.0.1 in /Users/skahn/.pyenv/versions/3.11.6/lib/python3.11/site-packages (from chromadb>=1.0.9->langchain-chroma) (4.3.0)\n",
      "Requirement already satisfied: typer>=0.9.0 in /Users/skahn/.pyenv/versions/3.11.6/lib/python3.11/site-packages (from chromadb>=1.0.9->langchain-chroma) (0.17.4)\n",
      "Requirement already satisfied: kubernetes>=28.1.0 in /Users/skahn/.pyenv/versions/3.11.6/lib/python3.11/site-packages (from chromadb>=1.0.9->langchain-chroma) (33.1.0)\n",
      "Requirement already satisfied: tenacity>=8.2.3 in /Users/skahn/.pyenv/versions/3.11.6/lib/python3.11/site-packages (from chromadb>=1.0.9->langchain-chroma) (9.1.2)\n",
      "Requirement already satisfied: pyyaml>=6.0.0 in /Users/skahn/.pyenv/versions/3.11.6/lib/python3.11/site-packages (from chromadb>=1.0.9->langchain-chroma) (6.0.2)\n",
      "Requirement already satisfied: mmh3>=4.0.1 in /Users/skahn/.pyenv/versions/3.11.6/lib/python3.11/site-packages (from chromadb>=1.0.9->langchain-chroma) (5.2.0)\n",
      "Requirement already satisfied: orjson>=3.9.12 in /Users/skahn/.pyenv/versions/3.11.6/lib/python3.11/site-packages (from chromadb>=1.0.9->langchain-chroma) (3.11.3)\n",
      "Requirement already satisfied: httpx>=0.27.0 in /Users/skahn/.pyenv/versions/3.11.6/lib/python3.11/site-packages (from chromadb>=1.0.9->langchain-chroma) (0.28.1)\n",
      "Requirement already satisfied: rich>=10.11.0 in /Users/skahn/.pyenv/versions/3.11.6/lib/python3.11/site-packages (from chromadb>=1.0.9->langchain-chroma) (14.1.0)\n",
      "Requirement already satisfied: jsonschema>=4.19.0 in /Users/skahn/.pyenv/versions/3.11.6/lib/python3.11/site-packages (from chromadb>=1.0.9->langchain-chroma) (4.25.1)\n",
      "Requirement already satisfied: langsmith>=0.3.45 in /Users/skahn/.pyenv/versions/3.11.6/lib/python3.11/site-packages (from langchain-core>=0.3.70->langchain-chroma) (0.4.25)\n",
      "Requirement already satisfied: jsonpatch<2.0,>=1.33 in /Users/skahn/.pyenv/versions/3.11.6/lib/python3.11/site-packages (from langchain-core>=0.3.70->langchain-chroma) (1.33)\n",
      "Requirement already satisfied: packaging>=23.2 in /Users/skahn/.pyenv/versions/3.11.6/lib/python3.11/site-packages (from langchain-core>=0.3.70->langchain-chroma) (25.0)\n",
      "Requirement already satisfied: pyproject_hooks in /Users/skahn/.pyenv/versions/3.11.6/lib/python3.11/site-packages (from build>=1.0.3->chromadb>=1.0.9->langchain-chroma) (1.2.0)\n",
      "Requirement already satisfied: anyio in /Users/skahn/.pyenv/versions/3.11.6/lib/python3.11/site-packages (from httpx>=0.27.0->chromadb>=1.0.9->langchain-chroma) (4.10.0)\n",
      "Requirement already satisfied: certifi in /Users/skahn/.pyenv/versions/3.11.6/lib/python3.11/site-packages (from httpx>=0.27.0->chromadb>=1.0.9->langchain-chroma) (2025.8.3)\n",
      "Requirement already satisfied: httpcore==1.* in /Users/skahn/.pyenv/versions/3.11.6/lib/python3.11/site-packages (from httpx>=0.27.0->chromadb>=1.0.9->langchain-chroma) (1.0.9)\n",
      "Requirement already satisfied: idna in /Users/skahn/.pyenv/versions/3.11.6/lib/python3.11/site-packages (from httpx>=0.27.0->chromadb>=1.0.9->langchain-chroma) (3.10)\n",
      "Requirement already satisfied: h11>=0.16 in /Users/skahn/.pyenv/versions/3.11.6/lib/python3.11/site-packages (from httpcore==1.*->httpx>=0.27.0->chromadb>=1.0.9->langchain-chroma) (0.16.0)\n",
      "Requirement already satisfied: jsonpointer>=1.9 in /Users/skahn/.pyenv/versions/3.11.6/lib/python3.11/site-packages (from jsonpatch<2.0,>=1.33->langchain-core>=0.3.70->langchain-chroma) (3.0.0)\n",
      "Requirement already satisfied: attrs>=22.2.0 in /Users/skahn/.pyenv/versions/3.11.6/lib/python3.11/site-packages (from jsonschema>=4.19.0->chromadb>=1.0.9->langchain-chroma) (25.3.0)\n",
      "Requirement already satisfied: jsonschema-specifications>=2023.03.6 in /Users/skahn/.pyenv/versions/3.11.6/lib/python3.11/site-packages (from jsonschema>=4.19.0->chromadb>=1.0.9->langchain-chroma) (2025.9.1)\n",
      "Requirement already satisfied: referencing>=0.28.4 in /Users/skahn/.pyenv/versions/3.11.6/lib/python3.11/site-packages (from jsonschema>=4.19.0->chromadb>=1.0.9->langchain-chroma) (0.36.2)\n",
      "Requirement already satisfied: rpds-py>=0.7.1 in /Users/skahn/.pyenv/versions/3.11.6/lib/python3.11/site-packages (from jsonschema>=4.19.0->chromadb>=1.0.9->langchain-chroma) (0.27.1)\n",
      "Requirement already satisfied: six>=1.9.0 in /Users/skahn/.pyenv/versions/3.11.6/lib/python3.11/site-packages (from kubernetes>=28.1.0->chromadb>=1.0.9->langchain-chroma) (1.17.0)\n",
      "Requirement already satisfied: python-dateutil>=2.5.3 in /Users/skahn/.pyenv/versions/3.11.6/lib/python3.11/site-packages (from kubernetes>=28.1.0->chromadb>=1.0.9->langchain-chroma) (2.9.0.post0)\n",
      "Requirement already satisfied: google-auth>=1.0.1 in /Users/skahn/.pyenv/versions/3.11.6/lib/python3.11/site-packages (from kubernetes>=28.1.0->chromadb>=1.0.9->langchain-chroma) (2.40.3)\n",
      "Requirement already satisfied: websocket-client!=0.40.0,!=0.41.*,!=0.42.*,>=0.32.0 in /Users/skahn/.pyenv/versions/3.11.6/lib/python3.11/site-packages (from kubernetes>=28.1.0->chromadb>=1.0.9->langchain-chroma) (1.8.0)\n",
      "Requirement already satisfied: requests in /Users/skahn/.pyenv/versions/3.11.6/lib/python3.11/site-packages (from kubernetes>=28.1.0->chromadb>=1.0.9->langchain-chroma) (2.32.5)\n",
      "Requirement already satisfied: requests-oauthlib in /Users/skahn/.pyenv/versions/3.11.6/lib/python3.11/site-packages (from kubernetes>=28.1.0->chromadb>=1.0.9->langchain-chroma) (2.0.0)\n",
      "Requirement already satisfied: oauthlib>=3.2.2 in /Users/skahn/.pyenv/versions/3.11.6/lib/python3.11/site-packages (from kubernetes>=28.1.0->chromadb>=1.0.9->langchain-chroma) (3.3.1)\n",
      "Requirement already satisfied: urllib3>=1.24.2 in /Users/skahn/.pyenv/versions/3.11.6/lib/python3.11/site-packages (from kubernetes>=28.1.0->chromadb>=1.0.9->langchain-chroma) (2.5.0)\n",
      "Requirement already satisfied: durationpy>=0.7 in /Users/skahn/.pyenv/versions/3.11.6/lib/python3.11/site-packages (from kubernetes>=28.1.0->chromadb>=1.0.9->langchain-chroma) (0.10)\n",
      "Requirement already satisfied: requests-toolbelt>=1.0.0 in /Users/skahn/.pyenv/versions/3.11.6/lib/python3.11/site-packages (from langsmith>=0.3.45->langchain-core>=0.3.70->langchain-chroma) (1.0.0)\n",
      "Requirement already satisfied: zstandard>=0.23.0 in /Users/skahn/.pyenv/versions/3.11.6/lib/python3.11/site-packages (from langsmith>=0.3.45->langchain-core>=0.3.70->langchain-chroma) (0.24.0)\n",
      "Requirement already satisfied: coloredlogs in /Users/skahn/.pyenv/versions/3.11.6/lib/python3.11/site-packages (from onnxruntime>=1.14.1->chromadb>=1.0.9->langchain-chroma) (15.0.1)\n",
      "Requirement already satisfied: flatbuffers in /Users/skahn/.pyenv/versions/3.11.6/lib/python3.11/site-packages (from onnxruntime>=1.14.1->chromadb>=1.0.9->langchain-chroma) (25.2.10)\n",
      "Requirement already satisfied: protobuf in /Users/skahn/.pyenv/versions/3.11.6/lib/python3.11/site-packages (from onnxruntime>=1.14.1->chromadb>=1.0.9->langchain-chroma) (6.32.0)\n",
      "Requirement already satisfied: sympy in /Users/skahn/.pyenv/versions/3.11.6/lib/python3.11/site-packages (from onnxruntime>=1.14.1->chromadb>=1.0.9->langchain-chroma) (1.14.0)\n",
      "Requirement already satisfied: importlib-metadata<8.8.0,>=6.0 in /Users/skahn/.pyenv/versions/3.11.6/lib/python3.11/site-packages (from opentelemetry-api>=1.2.0->chromadb>=1.0.9->langchain-chroma) (8.7.0)\n",
      "Requirement already satisfied: googleapis-common-protos~=1.57 in /Users/skahn/.pyenv/versions/3.11.6/lib/python3.11/site-packages (from opentelemetry-exporter-otlp-proto-grpc>=1.2.0->chromadb>=1.0.9->langchain-chroma) (1.70.0)\n",
      "Requirement already satisfied: opentelemetry-exporter-otlp-proto-common==1.36.0 in /Users/skahn/.pyenv/versions/3.11.6/lib/python3.11/site-packages (from opentelemetry-exporter-otlp-proto-grpc>=1.2.0->chromadb>=1.0.9->langchain-chroma) (1.36.0)\n",
      "Requirement already satisfied: opentelemetry-proto==1.36.0 in /Users/skahn/.pyenv/versions/3.11.6/lib/python3.11/site-packages (from opentelemetry-exporter-otlp-proto-grpc>=1.2.0->chromadb>=1.0.9->langchain-chroma) (1.36.0)\n",
      "Requirement already satisfied: opentelemetry-semantic-conventions==0.57b0 in /Users/skahn/.pyenv/versions/3.11.6/lib/python3.11/site-packages (from opentelemetry-sdk>=1.2.0->chromadb>=1.0.9->langchain-chroma) (0.57b0)\n",
      "Requirement already satisfied: backoff>=1.10.0 in /Users/skahn/.pyenv/versions/3.11.6/lib/python3.11/site-packages (from posthog<6.0.0,>=2.4.0->chromadb>=1.0.9->langchain-chroma) (2.2.1)\n",
      "Requirement already satisfied: distro>=1.5.0 in /Users/skahn/.pyenv/versions/3.11.6/lib/python3.11/site-packages (from posthog<6.0.0,>=2.4.0->chromadb>=1.0.9->langchain-chroma) (1.9.0)\n",
      "Requirement already satisfied: annotated-types>=0.6.0 in /Users/skahn/.pyenv/versions/3.11.6/lib/python3.11/site-packages (from pydantic>=1.9->chromadb>=1.0.9->langchain-chroma) (0.7.0)\n",
      "Requirement already satisfied: pydantic-core==2.33.2 in /Users/skahn/.pyenv/versions/3.11.6/lib/python3.11/site-packages (from pydantic>=1.9->chromadb>=1.0.9->langchain-chroma) (2.33.2)\n",
      "Requirement already satisfied: typing-inspection>=0.4.0 in /Users/skahn/.pyenv/versions/3.11.6/lib/python3.11/site-packages (from pydantic>=1.9->chromadb>=1.0.9->langchain-chroma) (0.4.1)\n",
      "Requirement already satisfied: markdown-it-py>=2.2.0 in /Users/skahn/.pyenv/versions/3.11.6/lib/python3.11/site-packages (from rich>=10.11.0->chromadb>=1.0.9->langchain-chroma) (4.0.0)\n",
      "Requirement already satisfied: pygments<3.0.0,>=2.13.0 in /Users/skahn/.pyenv/versions/3.11.6/lib/python3.11/site-packages (from rich>=10.11.0->chromadb>=1.0.9->langchain-chroma) (2.19.2)\n",
      "Requirement already satisfied: huggingface-hub<1.0,>=0.16.4 in /Users/skahn/.pyenv/versions/3.11.6/lib/python3.11/site-packages (from tokenizers>=0.13.2->chromadb>=1.0.9->langchain-chroma) (0.34.4)\n",
      "Requirement already satisfied: click>=8.0.0 in /Users/skahn/.pyenv/versions/3.11.6/lib/python3.11/site-packages (from typer>=0.9.0->chromadb>=1.0.9->langchain-chroma) (8.2.1)\n",
      "Requirement already satisfied: shellingham>=1.3.0 in /Users/skahn/.pyenv/versions/3.11.6/lib/python3.11/site-packages (from typer>=0.9.0->chromadb>=1.0.9->langchain-chroma) (1.5.4)\n",
      "Requirement already satisfied: httptools>=0.6.3 in /Users/skahn/.pyenv/versions/3.11.6/lib/python3.11/site-packages (from uvicorn[standard]>=0.18.3->chromadb>=1.0.9->langchain-chroma) (0.6.4)\n",
      "Requirement already satisfied: python-dotenv>=0.13 in /Users/skahn/.pyenv/versions/3.11.6/lib/python3.11/site-packages (from uvicorn[standard]>=0.18.3->chromadb>=1.0.9->langchain-chroma) (1.1.1)\n",
      "Requirement already satisfied: uvloop>=0.15.1 in /Users/skahn/.pyenv/versions/3.11.6/lib/python3.11/site-packages (from uvicorn[standard]>=0.18.3->chromadb>=1.0.9->langchain-chroma) (0.21.0)\n",
      "Requirement already satisfied: watchfiles>=0.13 in /Users/skahn/.pyenv/versions/3.11.6/lib/python3.11/site-packages (from uvicorn[standard]>=0.18.3->chromadb>=1.0.9->langchain-chroma) (1.1.0)\n",
      "Requirement already satisfied: websockets>=10.4 in /Users/skahn/.pyenv/versions/3.11.6/lib/python3.11/site-packages (from uvicorn[standard]>=0.18.3->chromadb>=1.0.9->langchain-chroma) (15.0.1)\n",
      "Requirement already satisfied: cachetools<6.0,>=2.0.0 in /Users/skahn/.pyenv/versions/3.11.6/lib/python3.11/site-packages (from google-auth>=1.0.1->kubernetes>=28.1.0->chromadb>=1.0.9->langchain-chroma) (5.5.2)\n",
      "Requirement already satisfied: pyasn1-modules>=0.2.1 in /Users/skahn/.pyenv/versions/3.11.6/lib/python3.11/site-packages (from google-auth>=1.0.1->kubernetes>=28.1.0->chromadb>=1.0.9->langchain-chroma) (0.4.2)\n",
      "Requirement already satisfied: rsa<5,>=3.1.4 in /Users/skahn/.pyenv/versions/3.11.6/lib/python3.11/site-packages (from google-auth>=1.0.1->kubernetes>=28.1.0->chromadb>=1.0.9->langchain-chroma) (4.9.1)\n",
      "Requirement already satisfied: filelock in /Users/skahn/.pyenv/versions/3.11.6/lib/python3.11/site-packages (from huggingface-hub<1.0,>=0.16.4->tokenizers>=0.13.2->chromadb>=1.0.9->langchain-chroma) (3.19.1)\n",
      "Requirement already satisfied: fsspec>=2023.5.0 in /Users/skahn/.pyenv/versions/3.11.6/lib/python3.11/site-packages (from huggingface-hub<1.0,>=0.16.4->tokenizers>=0.13.2->chromadb>=1.0.9->langchain-chroma) (2025.9.0)\n",
      "Requirement already satisfied: hf-xet<2.0.0,>=1.1.3 in /Users/skahn/.pyenv/versions/3.11.6/lib/python3.11/site-packages (from huggingface-hub<1.0,>=0.16.4->tokenizers>=0.13.2->chromadb>=1.0.9->langchain-chroma) (1.1.9)\n",
      "Requirement already satisfied: zipp>=3.20 in /Users/skahn/.pyenv/versions/3.11.6/lib/python3.11/site-packages (from importlib-metadata<8.8.0,>=6.0->opentelemetry-api>=1.2.0->chromadb>=1.0.9->langchain-chroma) (3.23.0)\n",
      "Requirement already satisfied: mdurl~=0.1 in /Users/skahn/.pyenv/versions/3.11.6/lib/python3.11/site-packages (from markdown-it-py>=2.2.0->rich>=10.11.0->chromadb>=1.0.9->langchain-chroma) (0.1.2)\n",
      "Requirement already satisfied: charset_normalizer<4,>=2 in /Users/skahn/.pyenv/versions/3.11.6/lib/python3.11/site-packages (from requests->kubernetes>=28.1.0->chromadb>=1.0.9->langchain-chroma) (3.4.3)\n",
      "Requirement already satisfied: sniffio>=1.1 in /Users/skahn/.pyenv/versions/3.11.6/lib/python3.11/site-packages (from anyio->httpx>=0.27.0->chromadb>=1.0.9->langchain-chroma) (1.3.1)\n",
      "Requirement already satisfied: humanfriendly>=9.1 in /Users/skahn/.pyenv/versions/3.11.6/lib/python3.11/site-packages (from coloredlogs->onnxruntime>=1.14.1->chromadb>=1.0.9->langchain-chroma) (10.0)\n",
      "Requirement already satisfied: mpmath<1.4,>=1.1.0 in /Users/skahn/.pyenv/versions/3.11.6/lib/python3.11/site-packages (from sympy->onnxruntime>=1.14.1->chromadb>=1.0.9->langchain-chroma) (1.3.0)\n",
      "Requirement already satisfied: pyasn1<0.7.0,>=0.6.1 in /Users/skahn/.pyenv/versions/3.11.6/lib/python3.11/site-packages (from pyasn1-modules>=0.2.1->google-auth>=1.0.1->kubernetes>=28.1.0->chromadb>=1.0.9->langchain-chroma) (0.6.1)\n",
      "Downloading langchain_chroma-0.2.5-py3-none-any.whl (12 kB)\n",
      "Installing collected packages: langchain-chroma\n",
      "Successfully installed langchain-chroma-0.2.5\n",
      "\n",
      "\u001b[1m[\u001b[0m\u001b[34;49mnotice\u001b[0m\u001b[1;39;49m]\u001b[0m\u001b[39;49m A new release of pip is available: \u001b[0m\u001b[31;49m23.2.1\u001b[0m\u001b[39;49m -> \u001b[0m\u001b[32;49m25.2\u001b[0m\n",
      "\u001b[1m[\u001b[0m\u001b[34;49mnotice\u001b[0m\u001b[1;39;49m]\u001b[0m\u001b[39;49m To update, run: \u001b[0m\u001b[32;49mpip install --upgrade pip\u001b[0m\n",
      "Note: you may need to restart the kernel to use updated packages.\n"
     ]
    }
   ],
   "source": [
    "%pip install langchain-chroma "
   ]
  },
  {
   "cell_type": "code",
   "execution_count": 12,
   "id": "e149474b",
   "metadata": {},
   "outputs": [],
   "source": [
    "from dotenv import load_dotenv\n",
    "load_dotenv()\n",
    "\n",
    "from langchain_upstage import UpstageEmbeddings\n",
    "embedding = UpstageEmbeddings(model=\"solar-embedding-1-large\")  # 예시 모델명\n"
   ]
  },
  {
   "cell_type": "code",
   "execution_count": 1,
   "id": "20eb982c",
   "metadata": {},
   "outputs": [
    {
     "name": "stdout",
     "output_type": "stream",
     "text": [
      "\n",
      "\u001b[1m[\u001b[0m\u001b[34;49mnotice\u001b[0m\u001b[1;39;49m]\u001b[0m\u001b[39;49m A new release of pip is available: \u001b[0m\u001b[31;49m23.2.1\u001b[0m\u001b[39;49m -> \u001b[0m\u001b[32;49m25.2\u001b[0m\n",
      "\u001b[1m[\u001b[0m\u001b[34;49mnotice\u001b[0m\u001b[1;39;49m]\u001b[0m\u001b[39;49m To update, run: \u001b[0m\u001b[32;49mpip install --upgrade pip\u001b[0m\n",
      "Note: you may need to restart the kernel to use updated packages.\n"
     ]
    }
   ],
   "source": [
    "%pip install -qU langchain langchain-pinecone langchain-openai\n"
   ]
  },
  {
   "cell_type": "code",
   "execution_count": 13,
   "id": "10f04a1e",
   "metadata": {},
   "outputs": [],
   "source": [
    "\n",
    "import getpass\n",
    "import os\n",
    "import time\n",
    "\n",
    "from pinecone import Pinecone\n",
    "from langchain_pinecone import PineconeVectorStore\n",
    "from dotenv import load_dotenv\n",
    "load_dotenv()\n",
    "\n",
    "index_name = 'tax-index'\n",
    "\n",
    "if not os.getenv(\"PINECONE_API_KEY\"):\n",
    "    os.environ[\"PINECONE_API_KEY\"] = getpass.getpass(\"Enter your Pinecone API key: \")\n",
    "\n",
    "pinecone_api_key = os.environ.get(\"PINECONE_API_KEY\")\n",
    "\n",
    "pc = Pinecone(api_key=pinecone_api_key)\n",
    "\n",
    "database = PineconeVectorStore.from_documents(document, embedding, index_name=index_name)"
   ]
  },
  {
   "cell_type": "code",
   "execution_count": null,
   "id": "fef611eb",
   "metadata": {},
   "outputs": [],
   "source": [
    "query = '연봉 3천만원인 직장인의 소득세는 얼마 인가요?'\n",
    "retrive_docs = database.similarity_search(query=query);"
   ]
  },
  {
   "cell_type": "code",
   "execution_count": 23,
   "id": "574972e6",
   "metadata": {},
   "outputs": [
    {
     "data": {
      "text/plain": [
       "[Document(id='2e366d44-96f0-4068-be6f-469f9063c053', metadata={'source': './tax.docx'}, page_content='2. 2명인 경우: 연 55만원\\n\\n3. 3명 이상인 경우: 연 55만원과 2명을 초과하는 1명당 연 40만원을 합한 금액\\n\\n② 삭제<2017. 12. 19.>\\n\\n③ 해당 과세기간에 출산하거나 입양 신고한 공제대상자녀가 있는 경우 다음 각 호의 구분에 따른 금액을 종합소득산출세액에서 공제한다.<신설 2015. 5. 13., 2016. 12. 20.>\\n\\n1. 출산하거나 입양 신고한 공제대상자녀가 첫째인 경우: 연 30만원\\n\\n2. 출산하거나 입양 신고한 공제대상자녀가 둘째인 경우: 연 50만원\\n\\n3. 출산하거나 입양 신고한 공제대상자녀가 셋째 이상인 경우: 연 70만원\\n\\n④ 제1항 및 제3항에 따른 공제를 “자녀세액공제”라 한다.<신설 2015. 5. 13., 2017. 12. 19.>\\n\\n[본조신설 2014. 1. 1.]\\n\\n[종전 제59조의2는 제59조의5로 이동 <2014. 1. 1.>]\\n\\n\\n\\n제59조의3(연금계좌세액공제) ① 종합소득이 있는 거주자가 연금계좌에 납입한 금액 중 다음 각 호에 해당하는 금액을 제외한 금액(이하 “연금계좌 납입액”이라 한다)의 100분의 12[해당 과세기간에 종합소득과세표준을 계산할 때 합산하는 종합소득금액이 4천 500만원 이하(근로소득만 있는 경우에는 총급여액 5천 500만원 이하)인 거주자에 대해서는 100분의 15]에 해당하는 금액을 해당 과세기간의 종합소득산출세액에서 공제한다. 다만, 연금계좌 중 연금저축계좌에 납입한 금액이 연 600만원을 초과하는 경우에는 그 초과하는 금액은 없는 것으로 하고, 연금저축계좌에 납입한 금액 중 600만원 이내의 금액과 퇴직연금계좌에 납입한 금액을 합한 금액이 연 900만원을 초과하는 경우에는 그 초과하는 금액은 없는 것으로 한다. <개정 2014. 12. 23., 2015. 5. 13., 2016. 12. 20., 2022. 12. 31.>\\n\\n1. 제146조제2항에 따라 소득세가 원천징수되지 아니한 퇴직소득 등 과세가 이연된 소득\\n\\n2. 연금계좌에서 다른 연금계좌로 계약을 이전함으로써 납입되는 금액\\n\\n② 제1항에 따른 공제를 “연금계좌세액공제”라 한다.\\n\\n③ 「조세특례제한법」 제91조의18에 따른 개인종합자산관리계좌의 계약기간이 만료되고 해당 계좌 잔액의 전부 또는 일부를 대통령령으로 정하는 방법으로 연금계좌로 납입한 경우 그 납입한 금액(이하 이 조에서 “전환금액”이라 한다)을 납입한 날이 속하는 과세기간의 연금계좌 납입액에 포함한다.<신설 2019. 12. 31.>\\n\\n④ 전환금액이 있는 경우에는 제1항 각 호 외의 부분 단서에도 불구하고 같은 항을 적용할 때 전환금액의 100분의 10 또는 300만원(직전 과세기간과 해당 과세기간에 걸쳐 납입한 경우에는 300만원에서 직전 과세기간에 적용된 금액을 차감한 금액으로 한다) 중 적은 금액과 제1항 각 호 외의 부분 단서에 따라 연금계좌에 납입한 금액으로 하는 금액을 합한 금액을 초과하는 금액은 없는 것으로 한다.<신설 2019. 12. 31.>'),\n",
       " Document(id='0350454c-2acc-4de5-bf72-57e886225b5e', metadata={'source': './tax.docx'}, page_content='가. 종교단체에 기부한 금액이 있는 경우\\n\\n\\u3000\\u3000한도액 = [종합소득금액(제62조에 따른 원천징수세율을 적용받는 이자소득 및 배당소득은 제외한다)에서 제1호에 따른 기부금을 뺀 금액을 말하며, 이하 이 항에서 “소득금액”이라 한다] × 100분의 10 + [소득금액의 100분의 20과 종교단체 외에 기부한 금액 중 적은 금액]\\n\\n나. 가목 외의 경우\\n\\n\\u3000\\u3000한도액 = 소득금액의 100분의 30\\n\\n⑤ 제1항부터 제3항까지의 규정을 적용할 때 과세기간 종료일 이전에 혼인ㆍ이혼ㆍ별거ㆍ취업 등의 사유로 기본공제대상자에 해당되지 아니하게 되는 종전의 배우자ㆍ부양가족ㆍ장애인 또는 과세기간 종료일 현재 65세 이상인 사람을 위하여 이미 지급한 금액이 있는 경우에는 그 사유가 발생한 날까지 지급한 금액에 제1항부터 제3항까지의 규정에 따른 율을 적용한 금액을 해당 과세기간의 종합소득산출세액에서 공제한다.\\n\\n⑥ 제1항부터 제4항까지의 규정에 따른 공제는 해당 거주자가 대통령령으로 정하는 바에 따라 신청한 경우에 적용한다.\\n\\n⑦ 국세청장은 제3항제2호라목에 따른 교육비가 세액공제 대상에 해당하는지 여부를 확인하기 위하여 「한국장학재단 설립 등에 관한 법률」 제6조에 따른 한국장학재단 등 학자금 대출ㆍ상환업무를 수행하는 대통령령으로 정하는 기관(이하 이 항에서 “한국장학재단등”이라 한다)에 학자금대출 및 원리금 상환내역 등 대통령령으로 정하는 자료의 제공을 요청할 수 있다. 이 경우 요청을 받은 한국장학재단등은 특별한 사유가 없으면 그 요청에 따라야 한다.<신설 2016. 12. 20.>\\n\\n⑧ 제4항에도 불구하고 2024년 1월 1일부터 2024년 12월 31일까지 지급한 기부금을 해당 과세기간의 합산과세되는 종합소득산출세액(필요경비에 산입한 기부금이 있는 경우 사업소득에 대한 산출세액은 제외한다)에서 공제하는 경우에는 같은 항에 따른 세액공제액 외에 같은 항 각 호의 기부금을 합한 금액에서 사업소득금액을 계산할 때 필요경비에 산입한 기부금을 뺀 금액이 3천만원을 초과하는 경우 그 초과분에 대해서는 100분의 10에 해당하는 금액을 추가로 공제한다.<신설 2021. 12. 8., 2022. 12. 31., 2023. 12. 31.>\\n\\n⑨ 거주자가 다음 각 호의 어느 하나에 해당하는 경우 다음 각 호의 구분에 따른 금액을 종합소득산출세액에서 공제(이하 “표준세액공제”라 한다)한다.<개정 2020. 12. 29.>\\n\\n1. 근로소득이 있는 거주자로서 제6항, 제52조제8항 및 「조세특례제한법」 제95조의2제2항에 따른 소득공제나 세액공제 신청을 하지 아니한 경우: 연 13만원\\n\\n2. 종합소득이 있는 거주자(근로소득이 있는 자는 제외한다)로서 「조세특례제한법」 제122조의3에 따른 세액공제 신청을 하지 아니한 경우: 다음 각 목의 구분에 따른 금액\\n\\n가. 제160조의5제3항에 따른 사업용계좌의 신고 등 대통령령으로 정하는 요건에 해당하는 사업자(이하 “성실사업자”라 한다)의 경우: 연 12만원\\n\\n나. 가목 외의 경우: 연 7만원'),\n",
       " Document(id='ebeecf2e-f701-4e06-9bc9-3e3da263a845', metadata={'source': './tax.docx'}, page_content='③ 제1항에 따른 공제를 “재해손실세액공제”라 한다.\\n\\n④ 재해손실세액공제를 적용받으려는 자는 대통령령으로 정하는 바에 따라 관할 세무서장에게 신청할 수 있다.\\n\\n⑤ 관할 세무서장이 제4항의 신청을 받았을 때에는 그 공제할 세액을 결정하여 신청인에게 알려야 한다.\\n\\n⑥ 제4항의 신청이 없는 경우에도 제1항을 적용한다.\\n\\n⑦ 집단적으로 재해가 발생한 경우에는 대통령령으로 정하는 바에 따라 관할 세무서장이 조사결정한 자산상실비율에 따라 제1항을 적용한다.\\n\\n⑧ 재해손실세액공제에 관하여 필요한 사항은 대통령령으로 정한다.\\n\\n[전문개정 2009. 12. 31.]\\n\\n\\n\\n제59조(근로소득세액공제) ①근로소득이 있는 거주자에 대해서는 그 근로소득에 대한 종합소득산출세액에서 다음의 금액을 공제한다. <개정 2014. 1. 1., 2015. 5. 13.>\\n\\n\\n\\n② 제1항에도 불구하고 공제세액이 다음 각 호의 구분에 따른 금액을 초과하는 경우에 그 초과하는 금액은 없는 것으로 한다.<신설 2014. 1. 1., 2015. 5. 13., 2022. 12. 31.>\\n\\n1. 총급여액이 3천 300만원 이하인 경우: 74만원\\n\\n2. 총급여액이 3천 300만원 초과 7천만원 이하인 경우: 74만원 - [(총급여액 - 3천 300만원) × 8/1000]. 다만, 위 금액이 66만원보다 적은 경우에는 66만원으로 한다.\\n\\n3. 총급여액이 7천만원 초과 1억2천만원 이하인 경우: 66만원 - [(총급여액 - 7천만원) × 1/2]. 다만, 위 금액이 50만원보다 적은 경우에는 50만원으로 한다.\\n\\n4. 총급여액이 1억2천만원을 초과하는 경우: 50만원 - [(총급여액 - 1억2천만원) × 1/2]. 다만, 위 금액이 20만원보다 적은 경우에는 20만원으로 한다.\\n\\n③ 일용근로자의 근로소득에 대해서 제134조제3항에 따른 원천징수를 하는 경우에는 해당 근로소득에 대한 산출세액의 100분의 55에 해당하는 금액을 그 산출세액에서 공제한다.<개정 2014. 1. 1.>\\n\\n[전문개정 2012. 1. 1.]\\n\\n\\n\\n제59조의2(자녀세액공제) ①종합소득이 있는 거주자의 기본공제대상자에 해당하는 자녀(입양자 및 위탁아동을 포함하며, 이하 이 조에서 “공제대상자녀”라 한다) 및 손자녀로서 8세 이상의 사람에 대해서는 다음 각 호의 구분에 따른 금액을 종합소득산출세액에서 공제한다. <개정 2015. 5. 13., 2017. 12. 19., 2018. 12. 31., 2019. 12. 31., 2022. 12. 31., 2023. 12. 31., 2024. 12. 31.>\\n\\n1. 1명인 경우: 연 25만원\\n\\n2. 2명인 경우: 연 55만원\\n\\n3. 3명 이상인 경우: 연 55만원과 2명을 초과하는 1명당 연 40만원을 합한 금액\\n\\n② 삭제<2017. 12. 19.>\\n\\n③ 해당 과세기간에 출산하거나 입양 신고한 공제대상자녀가 있는 경우 다음 각 호의 구분에 따른 금액을 종합소득산출세액에서 공제한다.<신설 2015. 5. 13., 2016. 12. 20.>'),\n",
       " Document(id='1d1fa06a-a195-46fd-a2d6-20156b39079e', metadata={'source': './tax.docx'}, page_content='⑤ 제1항부터 제4항까지의 규정에 따른 연금계좌세액공제의 계산방법, 신청 절차 등에 관하여 필요한 사항은 대통령령으로 정한다.<개정 2019. 12. 31.>\\n\\n[본조신설 2014. 1. 1.]\\n\\n\\n\\n제59조의4(특별세액공제) ① 근로소득이 있는 거주자(일용근로자는 제외한다. 이하 이 조에서 같다)가 해당 과세기간에 만기에 환급되는 금액이 납입보험료를 초과하지 아니하는 보험의 보험계약에 따라 지급하는 다음 각 호의 보험료를 지급한 경우 그 금액의 100분의 12(제1호의 경우에는 100분의 15)에 해당하는 금액을 해당 과세기간의 종합소득산출세액에서 공제한다. 다만, 다음 각 호의 보험료별로 그 합계액이 각각 연 100만원을 초과하는 경우 그 초과하는 금액은 각각 없는 것으로 한다. <개정 2015. 5. 13.>\\n\\n1. 기본공제대상자 중 장애인을 피보험자 또는 수익자로 하는 장애인전용보험으로서 대통령령으로 정하는 장애인전용보장성보험료\\n\\n2. 기본공제대상자를 피보험자로 하는 대통령령으로 정하는 보험료(제1호에 따른 장애인전용보장성보험료는 제외한다)\\n\\n② 근로소득이 있는 거주자가 기본공제대상자(나이 및 소득의 제한을 받지 아니한다)를 위하여 해당 과세기간에 대통령령으로 정하는 의료비를 지급한 경우 다음 각 호의 금액의 100분의 15(제3호의 경우에는 100분의 20, 제4호의 경우에는 100분의 30)에 해당하는 금액을 해당 과세기간의 종합소득산출세액에서 공제한다.<개정 2014. 12. 23., 2016. 12. 20., 2017. 12. 19., 2021. 12. 8., 2023. 12. 31.>\\n\\n1. 기본공제대상자를 위하여 지급한 의료비(제2호부터 제4호까지의 의료비는 제외한다)로서 총급여액에 100분의 3을 곱하여 계산한 금액을 초과하는 금액. 다만, 그 금액이 연 700만원을 초과하는 경우에는 연 700만원으로 한다.\\n\\n2. 다음 각 목의 어느 하나에 해당하는 사람을 위하여 지급한 의료비. 다만, 제1호의 의료비가 총급여액에 100분의 3을 곱하여 계산한 금액에 미달하는 경우에는 그 미달하는 금액을 뺀다.\\n\\n가. 해당 거주자\\n\\n나. 과세기간 개시일 현재 6세 이하인 사람\\n\\n다. 과세기간 종료일 현재 65세 이상인 사람\\n\\n라. 장애인\\n\\n마. 대통령령으로 정하는 중증질환자, 희귀난치성질환자 또는 결핵환자\\n\\n3. 대통령령으로 정하는 미숙아 및 선천성이상아를 위하여 지급한 의료비. 다만, 제1호 및 제2호의 의료비 합계액이 총급여액에 100분의 3을 곱하여 계산한 금액에 미달하는 경우에는 그 미달하는 금액을 뺀다.\\n\\n4. 대통령령으로 정하는 난임시술(이하 이 호에서 “난임시술”이라 한다)을 위하여 지출한 비용(난임시술과 관련하여 처방을 받은 「약사법」 제2조에 따른 의약품 구입비용을 포함한다). 다만, 제1호부터 제3호까지의 의료비 합계액이 총급여액에 100분의 3을 곱하여 계산한 금액에 미달하는 경우에는 그 미달하는 금액을 뺀다.')]"
      ]
     },
     "execution_count": 23,
     "metadata": {},
     "output_type": "execute_result"
    }
   ],
   "source": [
    "retrive_docs"
   ]
  },
  {
   "cell_type": "code",
   "execution_count": 14,
   "id": "41afcd9e",
   "metadata": {},
   "outputs": [],
   "source": [
    "from langchain_upstage import ChatUpstage\n",
    "\n",
    "llm = ChatUpstage()"
   ]
  },
  {
   "cell_type": "code",
   "execution_count": 15,
   "id": "ada2cf8e",
   "metadata": {},
   "outputs": [
    {
     "ename": "NameError",
     "evalue": "name 'retrive_docs' is not defined",
     "output_type": "error",
     "traceback": [
      "\u001b[31m---------------------------------------------------------------------------\u001b[39m",
      "\u001b[31mNameError\u001b[39m                                 Traceback (most recent call last)",
      "\u001b[36mCell\u001b[39m\u001b[36m \u001b[39m\u001b[32mIn[15]\u001b[39m\u001b[32m, line 5\u001b[39m\n\u001b[32m      1\u001b[39m prompt=\u001b[33mf\u001b[39m\u001b[33m\"\"\"\u001b[39m\u001b[33m[idntity]\u001b[39m\n\u001b[32m      2\u001b[39m \u001b[33m- 당신은 최고의 한국 소득세법 전문가 입니다.\u001b[39m\n\u001b[32m      3\u001b[39m \u001b[33m- [Context]를 참고해서 질문에 답변해 주세요\u001b[39m\n\u001b[32m      4\u001b[39m \u001b[33m[Context]\u001b[39m\n\u001b[32m----> \u001b[39m\u001b[32m5\u001b[39m \u001b[38;5;132;01m{\u001b[39;00m\u001b[43mretrive_docs\u001b[49m\u001b[38;5;132;01m}\u001b[39;00m\n\u001b[32m      6\u001b[39m \n\u001b[32m      7\u001b[39m \u001b[33mQuestion: \u001b[39m\u001b[38;5;132;01m{\u001b[39;00mquery\u001b[38;5;132;01m}\u001b[39;00m\n\u001b[32m      8\u001b[39m \u001b[33m\"\"\"\u001b[39m\n",
      "\u001b[31mNameError\u001b[39m: name 'retrive_docs' is not defined"
     ]
    }
   ],
   "source": [
    "prompt=f\"\"\"[idntity]\n",
    "- 당신은 최고의 한국 소득세법 전문가 입니다.\n",
    "- [Context]를 참고해서 질문에 답변해 주세요\n",
    "[Context]\n",
    "{retrive_docs}\n",
    "\n",
    "Question: {query}\n",
    "\"\"\""
   ]
  },
  {
   "cell_type": "code",
   "execution_count": 26,
   "id": "5564ad3a",
   "metadata": {},
   "outputs": [],
   "source": [
    "ai_message = llm.invoke(prompt);"
   ]
  },
  {
   "cell_type": "code",
   "execution_count": 27,
   "id": "28ff08b4",
   "metadata": {},
   "outputs": [
    {
     "data": {
      "text/plain": [
       "'연봉 3천만원인 직장인의 소득세를 계산하기 위해서는 다음과 같은 단계를 거칩니다.\\n\\n1. 근로소득에서 근로소득공제를 차감하여 근로소득금액을 계산합니다.\\n2. 근로소득금액에 기본세율을 적용하여 산출세액을 계산합니다.\\n3. 산출세액에서 근로소득세액공제를 차감하여 결정세액을 계산합니다.\\n\\n근로소득공제: 연봉 3천만원인 경우, 근로소득공제 금액은 750만원입니다. 따라서 근로소득금액은 2250만원이 됩니다.\\n\\n기본세율: 근로소득금액 2250만원에 대해 기본세율을 적용하면 다음과 같습니다.\\n\\n- 1200만원 × 6% = 72만원\\n- 1050만원 × 15% = 157.5만원\\n\\n따라서 산출세액은 229.5만원입니다.\\n\\n근로소득세액공제: 연봉 3천만원인 경우, 근로소득세액공제 금액은 74만원입니다.\\n\\n결정세액: 산출세액 229.5만원에서 근로소득세액공제 74만원을 차감하면 결정세액은 155.5만원이 됩니다.\\n\\n따라서 연봉 3천만원인 직장인의 소득세는 약 155.5만원입니다. 이 값은 간단한 계산에 의한 것이며, 실제로는 다양한 공제 및 세액 감면 등이 적용될 수 있으므로 실제 납부세액은 다를 수 있습니다.'"
      ]
     },
     "execution_count": 27,
     "metadata": {},
     "output_type": "execute_result"
    }
   ],
   "source": [
    "ai_message.content"
   ]
  },
  {
   "cell_type": "code",
   "execution_count": 28,
   "id": "b3eb3f3c",
   "metadata": {},
   "outputs": [
    {
     "name": "stdout",
     "output_type": "stream",
     "text": [
      "\n",
      "Usage:   \n",
      "  /Users/skahn/.pyenv/versions/3.11.6/bin/python -m pip install [options] <requirement specifier> [package-index-options] ...\n",
      "  /Users/skahn/.pyenv/versions/3.11.6/bin/python -m pip install [options] -r <requirements file> [package-index-options] ...\n",
      "  /Users/skahn/.pyenv/versions/3.11.6/bin/python -m pip install [options] [-e] <vcs project url> ...\n",
      "  /Users/skahn/.pyenv/versions/3.11.6/bin/python -m pip install [options] [-e] <local project path> ...\n",
      "  /Users/skahn/.pyenv/versions/3.11.6/bin/python -m pip install [options] <archive url/path> ...\n",
      "\n",
      "no such option: --quied\n",
      "Note: you may need to restart the kernel to use updated packages.\n"
     ]
    }
   ],
   "source": [
    "%pip install -U langchain lanchainhub --quied"
   ]
  },
  {
   "cell_type": "code",
   "execution_count": 33,
   "id": "80619c36",
   "metadata": {},
   "outputs": [],
   "source": [
    "from langchain import hub\n",
    "prompt= hub.pull('rlm/rag-prompt')"
   ]
  },
  {
   "cell_type": "code",
   "execution_count": 30,
   "id": "44d25213",
   "metadata": {},
   "outputs": [
    {
     "data": {
      "text/plain": [
       "ChatPromptTemplate(input_variables=['context', 'question'], input_types={}, partial_variables={}, metadata={'lc_hub_owner': 'rlm', 'lc_hub_repo': 'rag-prompt', 'lc_hub_commit_hash': '50442af133e61576e74536c6556cefe1fac147cad032f4377b60c436e6cdcb6e'}, messages=[HumanMessagePromptTemplate(prompt=PromptTemplate(input_variables=['context', 'question'], input_types={}, partial_variables={}, template=\"You are an assistant for question-answering tasks. Use the following pieces of retrieved context to answer the question. If you don't know the answer, just say that you don't know. Use three sentences maximum and keep the answer concise.\\nQuestion: {question} \\nContext: {context} \\nAnswer:\"), additional_kwargs={})])"
      ]
     },
     "execution_count": 30,
     "metadata": {},
     "output_type": "execute_result"
    }
   ],
   "source": [
    "prompt"
   ]
  },
  {
   "cell_type": "code",
   "execution_count": 44,
   "id": "de047648",
   "metadata": {},
   "outputs": [],
   "source": [
    "from langchain.chains import RetrievalQA\n",
    "\n",
    "\n",
    "qa_chain = RetrievalQA.from_chain_type(\n",
    "    llm,\n",
    "    retriever =  database.as_retriever(),\n",
    "    chain_type_kwargs={\"prompt\":prompt}\n",
    ")\n"
   ]
  },
  {
   "cell_type": "code",
   "execution_count": 53,
   "id": "0aadf2f0",
   "metadata": {},
   "outputs": [],
   "source": [
    "ai_message = qa_chain({\"query\": query})"
   ]
  },
  {
   "cell_type": "code",
   "execution_count": 54,
   "id": "d772b2c1",
   "metadata": {},
   "outputs": [
    {
     "data": {
      "text/plain": [
       "{'query': '연봉 3천만원인 직장인의 소득세는 얼마 인가요?',\n",
       " 'result': '연봉 3천만원인 직장인의 소득세는 다양한 공제 항목에 따라 달라질 수 있습니다. 하지만 간단히 계산하면, 대략 120만원에서 240만원 사이의 소득세를 납부하게 됩니다. 정확한 금액은 근로소득공제, 세액공제 등의 세부 사항을 고려해야 합니다.'}"
      ]
     },
     "execution_count": 54,
     "metadata": {},
     "output_type": "execute_result"
    }
   ],
   "source": [
    "ai_message"
   ]
  }
 ],
 "metadata": {
  "kernelspec": {
   "display_name": "3.11.6",
   "language": "python",
   "name": "python3"
  },
  "language_info": {
   "codemirror_mode": {
    "name": "ipython",
    "version": 3
   },
   "file_extension": ".py",
   "mimetype": "text/x-python",
   "name": "python",
   "nbconvert_exporter": "python",
   "pygments_lexer": "ipython3",
   "version": "3.11.6"
  }
 },
 "nbformat": 4,
 "nbformat_minor": 5
}
