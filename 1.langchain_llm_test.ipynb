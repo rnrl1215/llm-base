{
 "cells": [
  {
   "cell_type": "code",
   "execution_count": null,
   "id": "9e9a6e5e",
   "metadata": {},
   "outputs": [],
   "source": [
    "%pip install python-dotenv langchain-upstage"
   ]
  },
  {
   "cell_type": "code",
   "execution_count": 1,
   "id": "df069d1c",
   "metadata": {},
   "outputs": [
    {
     "data": {
      "text/plain": [
       "True"
      ]
     },
     "execution_count": 1,
     "metadata": {},
     "output_type": "execute_result"
    }
   ],
   "source": [
    "from dotenv import load_dotenv\n",
    "\n",
    "load_dotenv()"
   ]
  },
  {
   "cell_type": "code",
   "execution_count": null,
   "id": "29b39255",
   "metadata": {},
   "outputs": [],
   "source": []
  },
  {
   "cell_type": "code",
   "execution_count": 2,
   "id": "b58fa6d8",
   "metadata": {},
   "outputs": [],
   "source": [
    "from langchain_upstage import ChatUpstage\n",
    "\n",
    "llm = ChatUpstage()"
   ]
  },
  {
   "cell_type": "code",
   "execution_count": 3,
   "id": "0b519387",
   "metadata": {},
   "outputs": [
    {
     "data": {
      "text/plain": [
       "AIMessage(content='인프런에는 다양한 분야의 강의가 있습니다. 주로 IT, 프로그래밍, 데이터 사이언스, 디자인, 마케팅, 창업, 그리고 오피스 활용법 등의 주제를 다루고 있습니다. 구체적으로는 아래와 같은 강의들이 있습니다:\\n\\n1. **프로그래밍**: Python, JavaScript, Java, C++, Ruby 등 다양한 프로그래밍 언어의 기초부터 고급 주제까지 다양한 강의가 있습니다.\\n2. **웹 개발**: HTML, CSS, JavaScript, React, Angular, Vue.js 등 웹 개발 관련 기술에 대한 강의가 있습니다.\\n3. **모바일 개발**: Android, iOS 앱 개발에 대한 강의가 있습니다.\\n4. **데이터 분석 및 머신러닝**: Python을 활용한 데이터 분석, 머신러닝, 딥러닝 등의 주제에 대한 강의가 있습니다.\\n5. **디자인**: UX/UI 디자인, 웹 디자인, 그래픽 디자인 등 디자인 관련 강의가 있습니다.\\n6. **마케팅**: 디지털 마케팅, SEO, 소셜 미디어 마케팅 등의 주제에 대한 강의가 있습니다.\\n7. **창업 및 비즈니스**: 비즈니스 모델링, 스타트업 창업, 경영 전략 등의 주제에 대한 강의가 있습니다.\\n8. **오피스 활용법**: Microsoft Office, Google Workspace 등의 오피스 소프트웨어 활용법에 대한 강의가 있습니다.\\n\\n이 외에도 다양한 전문 분야의 강의가 있으며, 사용자의 관심 분야와 수준에 맞춰 선택할 수 있습니다. 인프런 웹사이트나 앱을 통해 자세한 내용을 확인하실 수 있습니다.', additional_kwargs={'refusal': None}, response_metadata={'token_usage': {'completion_tokens': 301, 'prompt_tokens': 19, 'total_tokens': 320, 'completion_tokens_details': {'accepted_prediction_tokens': 0, 'audio_tokens': 0, 'reasoning_tokens': 0, 'rejected_prediction_tokens': 0}, 'prompt_tokens_details': {'audio_tokens': 0, 'cached_tokens': 0}}, 'model_name': 'solar-mini-250422', 'system_fingerprint': None, 'id': 'a5ac8a6c-5d60-4d78-b71a-b06bd69c7f9c', 'service_tier': None, 'finish_reason': 'stop', 'logprobs': None}, id='run--f61e2b8e-eb07-4370-95a5-26625e278211-0', usage_metadata={'input_tokens': 19, 'output_tokens': 301, 'total_tokens': 320, 'input_token_details': {'audio': 0, 'cache_read': 0}, 'output_token_details': {'audio': 0, 'reasoning': 0}})"
      ]
     },
     "execution_count": 3,
     "metadata": {},
     "output_type": "execute_result"
    }
   ],
   "source": [
    "llm.invoke(\"인프런에 어떤강의가 있나요?\")"
   ]
  }
 ],
 "metadata": {
  "kernelspec": {
   "display_name": "3.11.6",
   "language": "python",
   "name": "python3"
  },
  "language_info": {
   "codemirror_mode": {
    "name": "ipython",
    "version": 3
   },
   "file_extension": ".py",
   "mimetype": "text/x-python",
   "name": "python",
   "nbconvert_exporter": "python",
   "pygments_lexer": "ipython3",
   "version": "3.11.6"
  }
 },
 "nbformat": 4,
 "nbformat_minor": 5
}
